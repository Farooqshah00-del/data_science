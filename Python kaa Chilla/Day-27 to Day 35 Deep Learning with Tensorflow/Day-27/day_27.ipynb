{
 "cells": [
  {
   "cell_type": "code",
   "execution_count": null,
   "metadata": {},
   "outputs": [],
   "source": [
    "cd Downloads\n",
    "mkdir Shaheer Ali Repository\n",
    "#copy the line of github repository\n",
    "# git clone https://github.com/shaheeralics/Python-Ka-Chilla-Practice.git\n",
    "# git status\n",
    "# git add readme.md\n",
    "# git status\n",
    "# git commit -m \"readme.md file added\"\n",
    "# git config --global user.email \"you@example.com\"\n",
    "same for deletion"
   ]
  }
 ],
 "metadata": {
  "kernelspec": {
   "display_name": "tf_env",
   "language": "python",
   "name": "python3"
  },
  "language_info": {
   "codemirror_mode": {
    "name": "ipython",
    "version": 3
   },
   "file_extension": ".py",
   "mimetype": "text/x-python",
   "name": "python",
   "nbconvert_exporter": "python",
   "pygments_lexer": "ipython3",
   "version": "3.9.18"
  }
 },
 "nbformat": 4,
 "nbformat_minor": 2
}
